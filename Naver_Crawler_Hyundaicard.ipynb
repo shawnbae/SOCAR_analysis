{
 "cells": [
  {
   "cell_type": "code",
   "execution_count": 4,
   "metadata": {
    "scrolled": true
   },
   "outputs": [
    {
     "name": "stdout",
     "output_type": "stream",
     "text": [
      "현대카드 후기\n"
     ]
    }
   ],
   "source": [
    "import os\n",
    "import sys\n",
    "import urllib.request\n",
    "client_id = \"\"\n",
    "client_secret = \"\"\n",
    "encText = urllib.parse.quote(input())\n",
    "# url = \"https://openapi.naver.com/v1/search/blog?start={}&display=100&query=\".format(i) + encText # json 결과\n",
    "# url = \"https://openapi.naver.com/v1/search/blog.xml?query=\" + encText # xml 결과"
   ]
  },
  {
   "cell_type": "code",
   "execution_count": 5,
   "metadata": {},
   "outputs": [],
   "source": [
    "url_list= []\n",
    "\n",
    "for i in range(1,1000,100):\n",
    "    url = \"https://openapi.naver.com/v1/search/blog?start={}&display=100&query=\".format(i) + encText\n",
    "    url_list.append(url)  "
   ]
  },
  {
   "cell_type": "code",
   "execution_count": 6,
   "metadata": {
    "scrolled": true
   },
   "outputs": [],
   "source": [
    "# 최대 1000건까지만 요청 가능\n",
    "\n",
    "response_list= []\n",
    "import json\n",
    "\n",
    "for urls in url_list:\n",
    "    request = urllib.request.Request(urls)\n",
    "    request.add_header(\"X-Naver-Client-Id\",client_id)\n",
    "    request.add_header(\"X-Naver-Client-Secret\",client_secret)\n",
    "    response = urllib.request.urlopen(request)\n",
    "    rescode = response.getcode()\n",
    "    \n",
    "    if(rescode==200):\n",
    "        response_body = response.read()\n",
    "        response_list.append(json.loads(response_body.decode('utf-8'))['items'])\n",
    "    else:\n",
    "        print(\"Error Code:\" + rescode)"
   ]
  },
  {
   "cell_type": "code",
   "execution_count": 7,
   "metadata": {},
   "outputs": [],
   "source": [
    "import pandas as pd\n",
    "\n",
    "resp_df_0= pd.DataFrame(response_list[0])\n",
    "resp_df_1= pd.DataFrame(response_list[1])\n",
    "resp_df_2= pd.DataFrame(response_list[2])\n",
    "resp_df_3= pd.DataFrame(response_list[3])\n",
    "resp_df_4= pd.DataFrame(response_list[4])\n",
    "resp_df_5= pd.DataFrame(response_list[5])\n",
    "resp_df_6= pd.DataFrame(response_list[6])\n",
    "resp_df_7= pd.DataFrame(response_list[7])\n",
    "resp_df_8= pd.DataFrame(response_list[8])\n",
    "resp_df_9= pd.DataFrame(response_list[9])\n",
    "\n",
    "resp_df= pd.concat([resp_df_0,resp_df_1,resp_df_2,resp_df_3,resp_df_4,resp_df_5,resp_df_6,resp_df_7,resp_df_8,resp_df_9])"
   ]
  },
  {
   "cell_type": "code",
   "execution_count": 8,
   "metadata": {},
   "outputs": [],
   "source": [
    "# 필요없는 단어들 제거하기\n",
    "import re\n",
    "\n",
    "resp_df.title= resp_df.title.apply(lambda x: re.sub(r'(<b>)|(</b>)|(&amp;)','',x))\n",
    "resp_df.description= resp_df.description.apply(lambda x: re.sub(r'(<b>)|(</b>)|(&amp;)','',x))"
   ]
  },
  {
   "cell_type": "code",
   "execution_count": 9,
   "metadata": {
    "scrolled": true
   },
   "outputs": [
    {
     "data": {
      "text/html": [
       "<div>\n",
       "<style scoped>\n",
       "    .dataframe tbody tr th:only-of-type {\n",
       "        vertical-align: middle;\n",
       "    }\n",
       "\n",
       "    .dataframe tbody tr th {\n",
       "        vertical-align: top;\n",
       "    }\n",
       "\n",
       "    .dataframe thead th {\n",
       "        text-align: right;\n",
       "    }\n",
       "</style>\n",
       "<table border=\"1\" class=\"dataframe\">\n",
       "  <thead>\n",
       "    <tr style=\"text-align: right;\">\n",
       "      <th></th>\n",
       "      <th>title</th>\n",
       "      <th>link</th>\n",
       "      <th>description</th>\n",
       "      <th>bloggername</th>\n",
       "      <th>bloggerlink</th>\n",
       "      <th>postdate</th>\n",
       "    </tr>\n",
       "  </thead>\n",
       "  <tbody>\n",
       "    <tr>\n",
       "      <th>0</th>\n",
       "      <td>예약후기 :: 원스 어폰 어 타임 (@현대카드 디자인 라이브러리)</td>\n",
       "      <td>https://blog.naver.com/nichaejin?Redirect=Log&amp;...</td>\n",
       "      <td>현대카드디자인라이브러리 류준열 사진전 관람 후기 2020.11.03~2020.11....</td>\n",
       "      <td>일상을 여행처럼, 땡이의 트래블로그</td>\n",
       "      <td>https://blog.naver.com/nichaejin</td>\n",
       "      <td>20201126</td>\n",
       "    </tr>\n",
       "    <tr>\n",
       "      <th>1</th>\n",
       "      <td>현대카드 사업자카드 찐 후기</td>\n",
       "      <td>https://blog.naver.com/dira04?Redirect=Log&amp;log...</td>\n",
       "      <td>현대사업자카드에 대한 후기와 다른 카드사의 사업자카드들과 면밀히 비교하여 최고의 사...</td>\n",
       "      <td>라온치과병원상인점</td>\n",
       "      <td>https://blog.naver.com/dira04</td>\n",
       "      <td>20200731</td>\n",
       "    </tr>\n",
       "    <tr>\n",
       "      <th>2</th>\n",
       "      <td>인천공항 제1터미널 마티나라운지 현대카드 M2 무료입장 후기!</td>\n",
       "      <td>https://blog.naver.com/tlstnals1010?Redirect=L...</td>\n",
       "      <td>제일 좋아하는 시간이당 ㅎㅎ 앞으로 여유롭게좀 탑승수속 하자!!^^ 라는 다짐으로 ...</td>\n",
       "      <td>들숨날숨신숨</td>\n",
       "      <td>https://blog.naver.com/tlstnals1010</td>\n",
       "      <td>20200103</td>\n",
       "    </tr>\n",
       "    <tr>\n",
       "      <th>3</th>\n",
       "      <td>퀸 내한공연 현대카드 슈퍼콘서트 25 QUEEN 후기</td>\n",
       "      <td>https://blog.naver.com/seikia?Redirect=Log&amp;log...</td>\n",
       "      <td>현대카드 슈퍼콘서트 25 QUEEN 2020.01.18 거의 반년전 티켓팅했었던 퀸...</td>\n",
       "      <td>S W E E T D A Y ♪</td>\n",
       "      <td>https://blog.naver.com/seikia</td>\n",
       "      <td>20200119</td>\n",
       "    </tr>\n",
       "    <tr>\n",
       "      <th>4</th>\n",
       "      <td>마이테레사 발렌시아가 할인 직구 현대카드 캐쉬백 환급 후기</td>\n",
       "      <td>https://blog.naver.com/lhy9024?Redirect=Log&amp;lo...</td>\n",
       "      <td>폰파우치 여서 후기를 찾아보니 핸드폰 이랑 카드슬롯, 립스틱 정도 넣을 수 있다고 ...</td>\n",
       "      <td>힝냐옹뷰티라이프</td>\n",
       "      <td>https://blog.naver.com/lhy9024</td>\n",
       "      <td>20201124</td>\n",
       "    </tr>\n",
       "    <tr>\n",
       "      <th>...</th>\n",
       "      <td>...</td>\n",
       "      <td>...</td>\n",
       "      <td>...</td>\n",
       "      <td>...</td>\n",
       "      <td>...</td>\n",
       "      <td>...</td>\n",
       "    </tr>\n",
       "    <tr>\n",
       "      <th>95</th>\n",
       "      <td>현대카드 M3 수령 후기(feat. 현대카드 레드)</td>\n",
       "      <td>https://blog.naver.com/sidoheba?Redirect=Log&amp;l...</td>\n",
       "      <td>결혼을 준비하면서 결혼 준비 대금을 결제할 신용카드를 고민했습니다. 검색해보니 많이...</td>\n",
       "      <td>소소한 블로그</td>\n",
       "      <td>https://blog.naver.com/sidoheba</td>\n",
       "      <td>20180120</td>\n",
       "    </tr>\n",
       "    <tr>\n",
       "      <th>96</th>\n",
       "      <td>현대카드 트래블 바우처 / 롯데면세점 사용후기 / 할인 꿀팁!!!</td>\n",
       "      <td>https://blog.naver.com/harin9325?Redirect=Log&amp;...</td>\n",
       "      <td>지난번 현대 레드카드 쇼핑 바우처 사용후기를 남겼었는데요~ 이번에는 트래블 바우처 ...</td>\n",
       "      <td>Amerin's simple life</td>\n",
       "      <td>https://blog.naver.com/harin9325</td>\n",
       "      <td>20190307</td>\n",
       "    </tr>\n",
       "    <tr>\n",
       "      <th>97</th>\n",
       "      <td>현대카드 뮤직 라이브러리 방문 후기</td>\n",
       "      <td>https://blog.naver.com/beyoos2?Redirect=Log&amp;lo...</td>\n",
       "      <td>안녕하세요 이어서 포스팅할게요~ 현대카드가 있으면 입장가능한 뮤직 라이브러리에 방문...</td>\n",
       "      <td>beyoos2님의블로그</td>\n",
       "      <td>https://blog.naver.com/beyoos2</td>\n",
       "      <td>20200421</td>\n",
       "    </tr>\n",
       "    <tr>\n",
       "      <th>98</th>\n",
       "      <td>현대카드 재난지원금 사용 후기</td>\n",
       "      <td>https://blog.naver.com/soshouse?Redirect=Log&amp;l...</td>\n",
       "      <td>하나는 기존의 카드 사용 내역을 담은 문자 다른 하나는 재난지원금 사용 문자 해서 ...</td>\n",
       "      <td>예담스튜디오 님의블로그</td>\n",
       "      <td>https://blog.naver.com/soshouse</td>\n",
       "      <td>20200513</td>\n",
       "    </tr>\n",
       "    <tr>\n",
       "      <th>99</th>\n",
       "      <td>호캉스 솔직후기/룸타입/야간수영장/풍차라운지/현대카드바우처</td>\n",
       "      <td>https://blog.naver.com/ly0443?Redirect=Log&amp;log...</td>\n",
       "      <td>바로바로....현대카드 바우처 사용!!!! 저는 3년째 #현대카드레드 를 사용하는데...</td>\n",
       "      <td>루피의 제주살이</td>\n",
       "      <td>https://blog.naver.com/ly0443</td>\n",
       "      <td>20190731</td>\n",
       "    </tr>\n",
       "  </tbody>\n",
       "</table>\n",
       "<p>1000 rows × 6 columns</p>\n",
       "</div>"
      ],
      "text/plain": [
       "                                   title  \\\n",
       "0   예약후기 :: 원스 어폰 어 타임 (@현대카드 디자인 라이브러리)   \n",
       "1                        현대카드 사업자카드 찐 후기   \n",
       "2     인천공항 제1터미널 마티나라운지 현대카드 M2 무료입장 후기!   \n",
       "3          퀸 내한공연 현대카드 슈퍼콘서트 25 QUEEN 후기   \n",
       "4       마이테레사 발렌시아가 할인 직구 현대카드 캐쉬백 환급 후기   \n",
       "..                                   ...   \n",
       "95          현대카드 M3 수령 후기(feat. 현대카드 레드)   \n",
       "96  현대카드 트래블 바우처 / 롯데면세점 사용후기 / 할인 꿀팁!!!   \n",
       "97                   현대카드 뮤직 라이브러리 방문 후기   \n",
       "98                      현대카드 재난지원금 사용 후기   \n",
       "99      호캉스 솔직후기/룸타입/야간수영장/풍차라운지/현대카드바우처   \n",
       "\n",
       "                                                 link  \\\n",
       "0   https://blog.naver.com/nichaejin?Redirect=Log&...   \n",
       "1   https://blog.naver.com/dira04?Redirect=Log&log...   \n",
       "2   https://blog.naver.com/tlstnals1010?Redirect=L...   \n",
       "3   https://blog.naver.com/seikia?Redirect=Log&log...   \n",
       "4   https://blog.naver.com/lhy9024?Redirect=Log&lo...   \n",
       "..                                                ...   \n",
       "95  https://blog.naver.com/sidoheba?Redirect=Log&l...   \n",
       "96  https://blog.naver.com/harin9325?Redirect=Log&...   \n",
       "97  https://blog.naver.com/beyoos2?Redirect=Log&lo...   \n",
       "98  https://blog.naver.com/soshouse?Redirect=Log&l...   \n",
       "99  https://blog.naver.com/ly0443?Redirect=Log&log...   \n",
       "\n",
       "                                          description           bloggername  \\\n",
       "0   현대카드디자인라이브러리 류준열 사진전 관람 후기 2020.11.03~2020.11....   일상을 여행처럼, 땡이의 트래블로그   \n",
       "1   현대사업자카드에 대한 후기와 다른 카드사의 사업자카드들과 면밀히 비교하여 최고의 사...             라온치과병원상인점   \n",
       "2   제일 좋아하는 시간이당 ㅎㅎ 앞으로 여유롭게좀 탑승수속 하자!!^^ 라는 다짐으로 ...                들숨날숨신숨   \n",
       "3   현대카드 슈퍼콘서트 25 QUEEN 2020.01.18 거의 반년전 티켓팅했었던 퀸...     S W E E T D A Y ♪   \n",
       "4   폰파우치 여서 후기를 찾아보니 핸드폰 이랑 카드슬롯, 립스틱 정도 넣을 수 있다고 ...              힝냐옹뷰티라이프   \n",
       "..                                                ...                   ...   \n",
       "95  결혼을 준비하면서 결혼 준비 대금을 결제할 신용카드를 고민했습니다. 검색해보니 많이...               소소한 블로그   \n",
       "96  지난번 현대 레드카드 쇼핑 바우처 사용후기를 남겼었는데요~ 이번에는 트래블 바우처 ...  Amerin's simple life   \n",
       "97  안녕하세요 이어서 포스팅할게요~ 현대카드가 있으면 입장가능한 뮤직 라이브러리에 방문...          beyoos2님의블로그   \n",
       "98  하나는 기존의 카드 사용 내역을 담은 문자 다른 하나는 재난지원금 사용 문자 해서 ...          예담스튜디오 님의블로그   \n",
       "99  바로바로....현대카드 바우처 사용!!!! 저는 3년째 #현대카드레드 를 사용하는데...              루피의 제주살이   \n",
       "\n",
       "                            bloggerlink  postdate  \n",
       "0      https://blog.naver.com/nichaejin  20201126  \n",
       "1         https://blog.naver.com/dira04  20200731  \n",
       "2   https://blog.naver.com/tlstnals1010  20200103  \n",
       "3         https://blog.naver.com/seikia  20200119  \n",
       "4        https://blog.naver.com/lhy9024  20201124  \n",
       "..                                  ...       ...  \n",
       "95      https://blog.naver.com/sidoheba  20180120  \n",
       "96     https://blog.naver.com/harin9325  20190307  \n",
       "97       https://blog.naver.com/beyoos2  20200421  \n",
       "98      https://blog.naver.com/soshouse  20200513  \n",
       "99        https://blog.naver.com/ly0443  20190731  \n",
       "\n",
       "[1000 rows x 6 columns]"
      ]
     },
     "execution_count": 9,
     "metadata": {},
     "output_type": "execute_result"
    }
   ],
   "source": [
    "resp_df"
   ]
  },
  {
   "cell_type": "code",
   "execution_count": 10,
   "metadata": {},
   "outputs": [],
   "source": [
    "resp_df.to_csv('./dataset/Hyundaicard.csv', encoding= 'utf-8-sig')"
   ]
  }
 ],
 "metadata": {
  "kernelspec": {
   "display_name": "Python 3",
   "language": "python",
   "name": "python3"
  },
  "language_info": {
   "codemirror_mode": {
    "name": "ipython",
    "version": 3
   },
   "file_extension": ".py",
   "mimetype": "text/x-python",
   "name": "python",
   "nbconvert_exporter": "python",
   "pygments_lexer": "ipython3",
   "version": "3.7.9"
  },
  "toc": {
   "base_numbering": 1,
   "nav_menu": {},
   "number_sections": true,
   "sideBar": true,
   "skip_h1_title": false,
   "title_cell": "Table of Contents",
   "title_sidebar": "Contents",
   "toc_cell": false,
   "toc_position": {},
   "toc_section_display": true,
   "toc_window_display": false
  },
  "varInspector": {
   "cols": {
    "lenName": 16,
    "lenType": 16,
    "lenVar": 40
   },
   "kernels_config": {
    "python": {
     "delete_cmd_postfix": "",
     "delete_cmd_prefix": "del ",
     "library": "var_list.py",
     "varRefreshCmd": "print(var_dic_list())"
    },
    "r": {
     "delete_cmd_postfix": ") ",
     "delete_cmd_prefix": "rm(",
     "library": "var_list.r",
     "varRefreshCmd": "cat(var_dic_list()) "
    }
   },
   "types_to_exclude": [
    "module",
    "function",
    "builtin_function_or_method",
    "instance",
    "_Feature"
   ],
   "window_display": false
  }
 },
 "nbformat": 4,
 "nbformat_minor": 4
}
