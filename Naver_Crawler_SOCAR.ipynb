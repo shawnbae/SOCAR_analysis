{
 "cells": [
  {
   "cell_type": "code",
   "execution_count": 93,
   "metadata": {
    "scrolled": true
   },
   "outputs": [
    {
     "name": "stdout",
     "output_type": "stream",
     "text": [
      "쏘카 후기\n"
     ]
    }
   ],
   "source": [
    "import os\n",
    "import sys\n",
    "import urllib.request\n",
    "client_id = \"TJR_sIcW5rN5MnUEGnms\"\n",
    "client_secret = \"nWawYbL6Pl\"\n",
    "encText = urllib.parse.quote(input())\n",
    "# url = \"https://openapi.naver.com/v1/search/blog?start={}&display=100&query=\".format(i) + encText # json 결과\n",
    "# url = \"https://openapi.naver.com/v1/search/blog.xml?query=\" + encText # xml 결과"
   ]
  },
  {
   "cell_type": "code",
   "execution_count": 94,
   "metadata": {},
   "outputs": [],
   "source": [
    "url_list= []\n",
    "\n",
    "for i in range(1,1000,100):\n",
    "    url = \"https://openapi.naver.com/v1/search/blog?start={}&display=100&query=\".format(i) + encText\n",
    "    url_list.append(url)  "
   ]
  },
  {
   "cell_type": "code",
   "execution_count": 96,
   "metadata": {
    "scrolled": true
   },
   "outputs": [],
   "source": [
    "# 최대 1000건까지만 요청 가능\n",
    "\n",
    "response_list= []\n",
    "import json\n",
    "\n",
    "for urls in url_list:\n",
    "    request = urllib.request.Request(urls)\n",
    "    request.add_header(\"X-Naver-Client-Id\",client_id)\n",
    "    request.add_header(\"X-Naver-Client-Secret\",client_secret)\n",
    "    response = urllib.request.urlopen(request)\n",
    "    rescode = response.getcode()\n",
    "    \n",
    "    if(rescode==200):\n",
    "        response_body = response.read()\n",
    "        response_list.append(json.loads(response_body.decode('utf-8'))['items'])\n",
    "    else:\n",
    "        print(\"Error Code:\" + rescode)"
   ]
  },
  {
   "cell_type": "code",
   "execution_count": 138,
   "metadata": {},
   "outputs": [],
   "source": [
    "import pandas as pd\n",
    "\n",
    "resp_df_0= pd.DataFrame(response_list[0])\n",
    "resp_df_1= pd.DataFrame(response_list[1])\n",
    "resp_df_2= pd.DataFrame(response_list[2])\n",
    "resp_df_3= pd.DataFrame(response_list[3])\n",
    "resp_df_4= pd.DataFrame(response_list[4])\n",
    "resp_df_5= pd.DataFrame(response_list[5])\n",
    "resp_df_6= pd.DataFrame(response_list[6])\n",
    "resp_df_7= pd.DataFrame(response_list[7])\n",
    "resp_df_8= pd.DataFrame(response_list[8])\n",
    "resp_df_9= pd.DataFrame(response_list[9])\n",
    "\n",
    "resp_df= pd.concat([resp_df_0,resp_df_1,resp_df_2,resp_df_3,resp_df_4,resp_df_5,resp_df_6,resp_df_7,resp_df_8,resp_df_9])"
   ]
  },
  {
   "cell_type": "code",
   "execution_count": 161,
   "metadata": {},
   "outputs": [],
   "source": [
    "# 필요없는 단어들 제거하기\n",
    "import re\n",
    "\n",
    "resp_df.title= resp_df.title.apply(lambda x: re.sub(r'(<b>)|(</b>)|(&amp;)','',x))\n",
    "resp_df.description= resp_df.description.apply(lambda x: re.sub(r'(<b>)|(</b>)|(&amp;)','',x))"
   ]
  },
  {
   "cell_type": "code",
   "execution_count": 162,
   "metadata": {
    "scrolled": true
   },
   "outputs": [
    {
     "data": {
      "text/html": [
       "<div>\n",
       "<style scoped>\n",
       "    .dataframe tbody tr th:only-of-type {\n",
       "        vertical-align: middle;\n",
       "    }\n",
       "\n",
       "    .dataframe tbody tr th {\n",
       "        vertical-align: top;\n",
       "    }\n",
       "\n",
       "    .dataframe thead th {\n",
       "        text-align: right;\n",
       "    }\n",
       "</style>\n",
       "<table border=\"1\" class=\"dataframe\">\n",
       "  <thead>\n",
       "    <tr style=\"text-align: right;\">\n",
       "      <th></th>\n",
       "      <th>title</th>\n",
       "      <th>link</th>\n",
       "      <th>description</th>\n",
       "      <th>bloggername</th>\n",
       "      <th>bloggerlink</th>\n",
       "      <th>postdate</th>\n",
       "    </tr>\n",
       "  </thead>\n",
       "  <tbody>\n",
       "    <tr>\n",
       "      <th>0</th>\n",
       "      <td>쏘카 이용요금 방법 직접 타본 후기</td>\n",
       "      <td>https://blog.naver.com/jesixum?Redirect=Log&amp;lo...</td>\n",
       "      <td>아닌 쏘카를 통해 생각보다 간단히 해결 할 수 있습니다. 저도 말만 듣다가 이번에 ...</td>\n",
       "      <td>제육볶음 지지고볶고 블로그</td>\n",
       "      <td>https://blog.naver.com/jesixum</td>\n",
       "      <td>20201106</td>\n",
       "    </tr>\n",
       "    <tr>\n",
       "      <th>1</th>\n",
       "      <td>[이용후기] 쏘카이용 : 리얼후기</td>\n",
       "      <td>https://blog.naver.com/kakak81?Redirect=Log&amp;lo...</td>\n",
       "      <td>앱사용이 불편하다 그 외 수 많은 장단점이 있어요. 저도 처음이용이었지만 다음에는 ...</td>\n",
       "      <td>지금, 이순간</td>\n",
       "      <td>https://blog.naver.com/kakak81</td>\n",
       "      <td>20201011</td>\n",
       "    </tr>\n",
       "    <tr>\n",
       "      <th>2</th>\n",
       "      <td>쏘카 이용방법 요금 첫 이용 후기</td>\n",
       "      <td>https://blog.naver.com/sopimarso10?Redirect=Lo...</td>\n",
       "      <td>오히려 감사하다는 말을 하고 싶을 정도인데요 차가 없는 분들은 고민하지마시고 가끔 ...</td>\n",
       "      <td>소피마르소</td>\n",
       "      <td>https://blog.naver.com/sopimarso10</td>\n",
       "      <td>20201120</td>\n",
       "    </tr>\n",
       "    <tr>\n",
       "      <th>3</th>\n",
       "      <td>쏘카 아반떼 첫 이용 후기(feat. 예약부터 주차까지)</td>\n",
       "      <td>https://blog.naver.com/beandoll2?Redirect=Log&amp;...</td>\n",
       "      <td>여러분 제가 드디어 쏘카를 이용했어요! 장농면허 10년.. (또르르) 자차가 없다보...</td>\n",
       "      <td>Connecting The Dots</td>\n",
       "      <td>https://blog.naver.com/beandoll2</td>\n",
       "      <td>20200609</td>\n",
       "    </tr>\n",
       "    <tr>\n",
       "      <th>4</th>\n",
       "      <td>쏘카! 서울 나들이 (쏘카 후기)</td>\n",
       "      <td>https://blog.naver.com/saver9977?Redirect=Log&amp;...</td>\n",
       "      <td>#쏘카 #쏘카후기 #쏘카드라이브 #서울드라이브 #드라이브 #카셰어링 처음으로 카 셰...</td>\n",
       "      <td>Atelier Moon</td>\n",
       "      <td>https://blog.naver.com/saver9977</td>\n",
       "      <td>20201010</td>\n",
       "    </tr>\n",
       "    <tr>\n",
       "      <th>...</th>\n",
       "      <td>...</td>\n",
       "      <td>...</td>\n",
       "      <td>...</td>\n",
       "      <td>...</td>\n",
       "      <td>...</td>\n",
       "      <td>...</td>\n",
       "    </tr>\n",
       "    <tr>\n",
       "      <th>95</th>\n",
       "      <td>[쏘카] 참 쉬운 렌트카, 쏘카! 2번째 이용 후기</td>\n",
       "      <td>https://blog.naver.com/alsdn3654?Redirect=Log&amp;...</td>\n",
       "      <td>안녕하세요 충북 청주시에 살고있는 평범한 대학생입니다~ 쏘카를 처음알게된 것은 작년...</td>\n",
       "      <td>민우미누</td>\n",
       "      <td>https://blog.naver.com/alsdn3654</td>\n",
       "      <td>20160708</td>\n",
       "    </tr>\n",
       "    <tr>\n",
       "      <th>96</th>\n",
       "      <td>쏘카 예약,이용방법할인 및 무료쿠폰창원 쏘카 드라이브 후기</td>\n",
       "      <td>https://blog.naver.com/mmmmj2?Redirect=Log&amp;log...</td>\n",
       "      <td>렌트는 비싸고 단시간만 왔다갔다 편하게 만들어줄 쏘카를 백배 즐겨봅니다 전국적으로 ...</td>\n",
       "      <td>건복맴의 데일리</td>\n",
       "      <td>https://blog.naver.com/mmmmj2</td>\n",
       "      <td>20161205</td>\n",
       "    </tr>\n",
       "    <tr>\n",
       "      <th>97</th>\n",
       "      <td>[카셰어링] 쏘카이용후기 - 너무나 간편한 렌터카 SOCAR</td>\n",
       "      <td>https://blog.naver.com/monnow?Redirect=Log&amp;log...</td>\n",
       "      <td>카셰어링 쏘카 렌터카의 복잡한 철차 없이 간편하게 이용 할 수 있는 카셰어링 장점 ...</td>\n",
       "      <td>찡블로그♡</td>\n",
       "      <td>https://blog.naver.com/monnow</td>\n",
       "      <td>20160712</td>\n",
       "    </tr>\n",
       "    <tr>\n",
       "      <th>98</th>\n",
       "      <td>[부산역 치과] 2년차들의 저녁드라이브~ 쏘카이용후기</td>\n",
       "      <td>https://blog.naver.com/welcomedent5?Redirect=L...</td>\n",
       "      <td>저희에겐 &amp;quot;쏘카&amp;quot;가 있답니당 부릉부릉 . . . 여기서 잠깐! 쏘...</td>\n",
       "      <td>뉴튼치과병원</td>\n",
       "      <td>https://blog.naver.com/welcomedent5</td>\n",
       "      <td>20160308</td>\n",
       "    </tr>\n",
       "    <tr>\n",
       "      <th>99</th>\n",
       "      <td>내차 사는 대신 쏘카 쓰는 이유(+ 쏘카 반값패스)</td>\n",
       "      <td>https://blog.naver.com/ha_navy?Redirect=Log&amp;lo...</td>\n",
       "      <td>패스 1개월차이긴 하지만 내가 왜 자차를 안 샀는지와, 쏘카패스 사용 후기에 대해 ...</td>\n",
       "      <td>순간의 순간</td>\n",
       "      <td>https://blog.naver.com/ha_navy</td>\n",
       "      <td>20200914</td>\n",
       "    </tr>\n",
       "  </tbody>\n",
       "</table>\n",
       "<p>1000 rows × 6 columns</p>\n",
       "</div>"
      ],
      "text/plain": [
       "                                title  \\\n",
       "0                 쏘카 이용요금 방법 직접 타본 후기   \n",
       "1                  [이용후기] 쏘카이용 : 리얼후기   \n",
       "2                  쏘카 이용방법 요금 첫 이용 후기   \n",
       "3     쏘카 아반떼 첫 이용 후기(feat. 예약부터 주차까지)   \n",
       "4                  쏘카! 서울 나들이 (쏘카 후기)   \n",
       "..                                ...   \n",
       "95       [쏘카] 참 쉬운 렌트카, 쏘카! 2번째 이용 후기   \n",
       "96   쏘카 예약,이용방법할인 및 무료쿠폰창원 쏘카 드라이브 후기   \n",
       "97  [카셰어링] 쏘카이용후기 - 너무나 간편한 렌터카 SOCAR   \n",
       "98      [부산역 치과] 2년차들의 저녁드라이브~ 쏘카이용후기   \n",
       "99       내차 사는 대신 쏘카 쓰는 이유(+ 쏘카 반값패스)   \n",
       "\n",
       "                                                 link  \\\n",
       "0   https://blog.naver.com/jesixum?Redirect=Log&lo...   \n",
       "1   https://blog.naver.com/kakak81?Redirect=Log&lo...   \n",
       "2   https://blog.naver.com/sopimarso10?Redirect=Lo...   \n",
       "3   https://blog.naver.com/beandoll2?Redirect=Log&...   \n",
       "4   https://blog.naver.com/saver9977?Redirect=Log&...   \n",
       "..                                                ...   \n",
       "95  https://blog.naver.com/alsdn3654?Redirect=Log&...   \n",
       "96  https://blog.naver.com/mmmmj2?Redirect=Log&log...   \n",
       "97  https://blog.naver.com/monnow?Redirect=Log&log...   \n",
       "98  https://blog.naver.com/welcomedent5?Redirect=L...   \n",
       "99  https://blog.naver.com/ha_navy?Redirect=Log&lo...   \n",
       "\n",
       "                                          description          bloggername  \\\n",
       "0   아닌 쏘카를 통해 생각보다 간단히 해결 할 수 있습니다. 저도 말만 듣다가 이번에 ...       제육볶음 지지고볶고 블로그   \n",
       "1   앱사용이 불편하다 그 외 수 많은 장단점이 있어요. 저도 처음이용이었지만 다음에는 ...              지금, 이순간   \n",
       "2   오히려 감사하다는 말을 하고 싶을 정도인데요 차가 없는 분들은 고민하지마시고 가끔 ...                소피마르소   \n",
       "3   여러분 제가 드디어 쏘카를 이용했어요! 장농면허 10년.. (또르르) 자차가 없다보...  Connecting The Dots   \n",
       "4   #쏘카 #쏘카후기 #쏘카드라이브 #서울드라이브 #드라이브 #카셰어링 처음으로 카 셰...         Atelier Moon   \n",
       "..                                                ...                  ...   \n",
       "95  안녕하세요 충북 청주시에 살고있는 평범한 대학생입니다~ 쏘카를 처음알게된 것은 작년...                 민우미누   \n",
       "96  렌트는 비싸고 단시간만 왔다갔다 편하게 만들어줄 쏘카를 백배 즐겨봅니다 전국적으로 ...             건복맴의 데일리   \n",
       "97  카셰어링 쏘카 렌터카의 복잡한 철차 없이 간편하게 이용 할 수 있는 카셰어링 장점 ...                찡블로그♡   \n",
       "98  저희에겐 &quot;쏘카&quot;가 있답니당 부릉부릉 . . . 여기서 잠깐! 쏘...               뉴튼치과병원   \n",
       "99  패스 1개월차이긴 하지만 내가 왜 자차를 안 샀는지와, 쏘카패스 사용 후기에 대해 ...               순간의 순간   \n",
       "\n",
       "                            bloggerlink  postdate  \n",
       "0        https://blog.naver.com/jesixum  20201106  \n",
       "1        https://blog.naver.com/kakak81  20201011  \n",
       "2    https://blog.naver.com/sopimarso10  20201120  \n",
       "3      https://blog.naver.com/beandoll2  20200609  \n",
       "4      https://blog.naver.com/saver9977  20201010  \n",
       "..                                  ...       ...  \n",
       "95     https://blog.naver.com/alsdn3654  20160708  \n",
       "96        https://blog.naver.com/mmmmj2  20161205  \n",
       "97        https://blog.naver.com/monnow  20160712  \n",
       "98  https://blog.naver.com/welcomedent5  20160308  \n",
       "99       https://blog.naver.com/ha_navy  20200914  \n",
       "\n",
       "[1000 rows x 6 columns]"
      ]
     },
     "execution_count": 162,
     "metadata": {},
     "output_type": "execute_result"
    }
   ],
   "source": [
    "resp_df"
   ]
  },
  {
   "cell_type": "code",
   "execution_count": 164,
   "metadata": {},
   "outputs": [],
   "source": [
    "resp_df.to_csv('./dataset/SOCAR.csv', encoding= 'utf-8-sig')"
   ]
  }
 ],
 "metadata": {
  "kernelspec": {
   "display_name": "Python 3",
   "language": "python",
   "name": "python3"
  },
  "language_info": {
   "codemirror_mode": {
    "name": "ipython",
    "version": 3
   },
   "file_extension": ".py",
   "mimetype": "text/x-python",
   "name": "python",
   "nbconvert_exporter": "python",
   "pygments_lexer": "ipython3",
   "version": "3.7.9"
  },
  "toc": {
   "base_numbering": 1,
   "nav_menu": {},
   "number_sections": true,
   "sideBar": true,
   "skip_h1_title": false,
   "title_cell": "Table of Contents",
   "title_sidebar": "Contents",
   "toc_cell": false,
   "toc_position": {},
   "toc_section_display": true,
   "toc_window_display": false
  },
  "varInspector": {
   "cols": {
    "lenName": 16,
    "lenType": 16,
    "lenVar": 40
   },
   "kernels_config": {
    "python": {
     "delete_cmd_postfix": "",
     "delete_cmd_prefix": "del ",
     "library": "var_list.py",
     "varRefreshCmd": "print(var_dic_list())"
    },
    "r": {
     "delete_cmd_postfix": ") ",
     "delete_cmd_prefix": "rm(",
     "library": "var_list.r",
     "varRefreshCmd": "cat(var_dic_list()) "
    }
   },
   "types_to_exclude": [
    "module",
    "function",
    "builtin_function_or_method",
    "instance",
    "_Feature"
   ],
   "window_display": false
  }
 },
 "nbformat": 4,
 "nbformat_minor": 4
}
